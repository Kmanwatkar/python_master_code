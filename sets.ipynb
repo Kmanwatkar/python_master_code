{
 "cells": [
  {
   "cell_type": "code",
   "execution_count": 1,
   "id": "6331a2a9",
   "metadata": {},
   "outputs": [
    {
     "name": "stdout",
     "output_type": "stream",
     "text": [
      "{1, 2, 3, 4}\n"
     ]
    }
   ],
   "source": [
    "my_set = {1,2,3,4}\n",
    "\n",
    "print(my_set)"
   ]
  },
  {
   "cell_type": "code",
   "execution_count": 3,
   "id": "1dba7583",
   "metadata": {},
   "outputs": [
    {
     "name": "stdout",
     "output_type": "stream",
     "text": [
      "{1, 2, 3, 4, 7}\n",
      "{1, 2, 4, 7}\n"
     ]
    }
   ],
   "source": [
    "## basic set operations\n",
    "\n",
    "## add and remove the elements\n",
    "\n",
    "\n",
    "my_set.add(7)\n",
    "print(my_set)\n",
    "\n",
    "my_set.remove(3)\n",
    "print(my_set)"
   ]
  },
  {
   "cell_type": "code",
   "execution_count": 5,
   "id": "c9990da9",
   "metadata": {},
   "outputs": [
    {
     "name": "stdout",
     "output_type": "stream",
     "text": [
      "{1, 2, 4}\n"
     ]
    }
   ],
   "source": [
    "my_set.discard(7)\n",
    "\n",
    "print(my_set)"
   ]
  },
  {
   "cell_type": "code",
   "execution_count": 6,
   "id": "32a8de6a",
   "metadata": {},
   "outputs": [
    {
     "name": "stdout",
     "output_type": "stream",
     "text": [
      "1\n",
      "{2, 4}\n"
     ]
    }
   ],
   "source": [
    "## pop method\n",
    "\n",
    "\n",
    "removed_element=my_set.pop()\n",
    "\n",
    "print(removed_element)\n",
    "print(my_set)"
   ]
  },
  {
   "cell_type": "code",
   "execution_count": 7,
   "id": "0330a7e9",
   "metadata": {},
   "outputs": [
    {
     "name": "stdout",
     "output_type": "stream",
     "text": [
      "set()\n"
     ]
    }
   ],
   "source": [
    "## clear all the element\n",
    "\n",
    "my_set.clear()\n",
    "\n",
    "print(my_set)"
   ]
  },
  {
   "cell_type": "code",
   "execution_count": 4,
   "id": "fa08053a",
   "metadata": {},
   "outputs": [
    {
     "name": "stdout",
     "output_type": "stream",
     "text": [
      "<class 'set'>\n",
      "True\n",
      "False\n"
     ]
    }
   ],
   "source": [
    "## membership test\n",
    "\n",
    "\n",
    "my_set={1,2,3,4,5}\n",
    "\n",
    "print(type(my_set))\n",
    "\n",
    "print(3 in my_set)\n",
    "\n",
    "print(10 in my_set)"
   ]
  },
  {
   "cell_type": "code",
   "execution_count": 11,
   "id": "b5fba547",
   "metadata": {},
   "outputs": [
    {
     "name": "stdout",
     "output_type": "stream",
     "text": [
      "{0, 1, 2, 3, 4, 5, 6, 7, 8, 9}\n",
      "{0, 5, 6, 7, 8, 9}\n",
      "{5, 6}\n"
     ]
    }
   ],
   "source": [
    "## mathematical operation\n",
    "\n",
    "set1= {1,2,3,5,6,4}\n",
    "set2= {5,6,7,8,9,0}\n",
    "\n",
    "union = set1.union(set2)\n",
    "\n",
    "print(union)\n",
    "\n",
    "## intersection\n",
    "\n",
    "intersect = set.intersection(set2)\n",
    "\n",
    "print(intersect)\n",
    "\n",
    "update = set1.intersection_update(set2)\n",
    "print(set1)"
   ]
  },
  {
   "cell_type": "code",
   "execution_count": 19,
   "id": "82c3b10e",
   "metadata": {},
   "outputs": [
    {
     "name": "stdout",
     "output_type": "stream",
     "text": [
      "None\n"
     ]
    }
   ],
   "source": [
    "print(set2.difference_update(set1))\n"
   ]
  },
  {
   "cell_type": "code",
   "execution_count": 23,
   "id": "17b946e9",
   "metadata": {},
   "outputs": [
    {
     "name": "stdout",
     "output_type": "stream",
     "text": [
      "True\n",
      "False\n"
     ]
    }
   ],
   "source": [
    "## sets methods\n",
    "\n",
    "set1={1,2,3,4,5}\n",
    "set2={3,4,5}\n",
    "\n",
    "print(set1.issuperset(set2))\n",
    "print(set1.issubset(set2))"
   ]
  },
  {
   "cell_type": "code",
   "execution_count": 27,
   "id": "7e4217b2",
   "metadata": {},
   "outputs": [
    {
     "name": "stdout",
     "output_type": "stream",
     "text": [
      "{'tutorial', 'are', 'this', 'sets', 'in', 'discussing', 'we', 'about'}\n",
      "8\n"
     ]
    }
   ],
   "source": [
    "## counting unique words in text\n",
    "\n",
    "text =\"in this tutorial we are discussing about sets\"\n",
    "\n",
    "words=text.split()\n",
    "\n",
    "\n",
    "unique_words = set(words)\n",
    "\n",
    "print(unique_words)\n",
    "print(len(unique_words))\n"
   ]
  }
 ],
 "metadata": {
  "kernelspec": {
   "display_name": "Python 3",
   "language": "python",
   "name": "python3"
  },
  "language_info": {
   "codemirror_mode": {
    "name": "ipython",
    "version": 3
   },
   "file_extension": ".py",
   "mimetype": "text/x-python",
   "name": "python",
   "nbconvert_exporter": "python",
   "pygments_lexer": "ipython3",
   "version": "3.12.0"
  }
 },
 "nbformat": 4,
 "nbformat_minor": 5
}
