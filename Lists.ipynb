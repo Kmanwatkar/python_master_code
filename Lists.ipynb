{
 "cells": [
  {
   "cell_type": "code",
   "execution_count": 1,
   "id": "a6e5483d",
   "metadata": {},
   "outputs": [
    {
     "name": "stdout",
     "output_type": "stream",
     "text": [
      "<class 'list'>\n"
     ]
    }
   ],
   "source": [
    "lst=[]\n",
    "print(type(lst))"
   ]
  },
  {
   "cell_type": "code",
   "execution_count": null,
   "id": "8eadc36f",
   "metadata": {},
   "outputs": [],
   "source": []
  },
  {
   "cell_type": "code",
   "execution_count": 2,
   "id": "5928ffd3",
   "metadata": {},
   "outputs": [
    {
     "name": "stdout",
     "output_type": "stream",
     "text": [
      "['krish', 'jack', 'master', 1, 2, 3, 4, 5]\n"
     ]
    }
   ],
   "source": [
    "names=[\"krish\",\"jack\",\"master\",1,2,3,4,5]\n",
    "print(names)"
   ]
  },
  {
   "cell_type": "code",
   "execution_count": 3,
   "id": "2a18682a",
   "metadata": {},
   "outputs": [
    {
     "data": {
      "text/plain": [
       "'Mango'"
      ]
     },
     "execution_count": 3,
     "metadata": {},
     "output_type": "execute_result"
    }
   ],
   "source": [
    "## accessing list elements\n",
    "\n",
    "fruit = [\"apple\",\"Mango\",\"banana\",\"Kiwi\",\"grapes\"]\n",
    "\n",
    "fruit[1]"
   ]
  },
  {
   "cell_type": "code",
   "execution_count": 14,
   "id": "8b2ddef8",
   "metadata": {},
   "outputs": [
    {
     "name": "stdout",
     "output_type": "stream",
     "text": [
      "['apple', 'Mango', 'banana', 'Kiwi', 'grapes']\n",
      "[]\n"
     ]
    }
   ],
   "source": [
    "fruit[0]\n",
    "print(fruit)\n",
    "\n",
    "fruit[-1]\n",
    "print(fruit[-1:4])"
   ]
  },
  {
   "cell_type": "code",
   "execution_count": 17,
   "id": "9ac859c9",
   "metadata": {},
   "outputs": [
    {
     "name": "stdout",
     "output_type": "stream",
     "text": [
      "['apple', 'Mango', 'melon', 'melon', 'grapes']\n"
     ]
    }
   ],
   "source": [
    "## modify the list element\n",
    "\n",
    "fruit[2] = \"melon\"\n",
    "\n",
    "print(fruit)"
   ]
  },
  {
   "cell_type": "code",
   "execution_count": null,
   "id": "69595903",
   "metadata": {},
   "outputs": [
    {
     "name": "stdout",
     "output_type": "stream",
     "text": [
      "['apple', 'banana', 'banana', 'Mango', 'melon', 'melon', 'grapes', 'orange', 'orange', 'orange', 'orange']\n",
      "['apple', 'banana', 'banana', 'banana', 'Mango', 'melon', 'melon', 'grapes', 'orange', 'orange', 'orange', 'orange']\n",
      "['apple', 'banana', 'banana', 'Mango', 'melon', 'melon', 'grapes', 'orange', 'orange', 'orange', 'orange']\n"
     ]
    }
   ],
   "source": [
    "## list method\n",
    "\n",
    "fruit.append(\"orange\")\n",
    "\n",
    "print(fruit)\n",
    "\n",
    "fruit.insert(1,\"banana\")\n",
    "print(fruit)\n",
    "\n",
    "fruit.remove(\"banana\")\n",
    "\n",
    "print(fruit)\n",
    "\n"
   ]
  },
  {
   "cell_type": "code",
   "execution_count": 22,
   "id": "2a1ce0af",
   "metadata": {},
   "outputs": [
    {
     "name": "stdout",
     "output_type": "stream",
     "text": [
      "orange\n",
      "['apple', 'banana', 'banana', 'Mango', 'melon', 'melon', 'grapes', 'orange', 'orange', 'orange']\n"
     ]
    }
   ],
   "source": [
    "## remove and return the last\n",
    "\n",
    "popped_fruit=fruit.pop()\n",
    "\n",
    "print(popped_fruit)\n",
    "print(fruit)"
   ]
  },
  {
   "cell_type": "code",
   "execution_count": 23,
   "id": "895b6bbb",
   "metadata": {},
   "outputs": [
    {
     "name": "stdout",
     "output_type": "stream",
     "text": [
      "4\n"
     ]
    }
   ],
   "source": [
    "index = fruit.index(\"melon\")\n",
    "\n",
    "print(index)"
   ]
  },
  {
   "cell_type": "code",
   "execution_count": 24,
   "id": "b2a48757",
   "metadata": {},
   "outputs": [
    {
     "name": "stdout",
     "output_type": "stream",
     "text": [
      "3\n"
     ]
    }
   ],
   "source": [
    "print(fruit.count(\"orange\"))"
   ]
  },
  {
   "cell_type": "code",
   "execution_count": 28,
   "id": "63ee8d5c",
   "metadata": {},
   "outputs": [
    {
     "name": "stdout",
     "output_type": "stream",
     "text": [
      "['Mango', 'apple', 'banana', 'banana', 'grapes', 'melon', 'melon', 'orange', 'orange', 'orange']\n"
     ]
    }
   ],
   "source": [
    "fruit.sort()\n",
    "print(fruit)"
   ]
  },
  {
   "cell_type": "code",
   "execution_count": 29,
   "id": "c6473979",
   "metadata": {},
   "outputs": [
    {
     "name": "stdout",
     "output_type": "stream",
     "text": [
      "['orange', 'orange', 'orange', 'melon', 'melon', 'grapes', 'banana', 'banana', 'apple', 'Mango']\n"
     ]
    }
   ],
   "source": [
    "fruit.reverse()\n",
    "\n",
    "print(fruit)"
   ]
  },
  {
   "cell_type": "code",
   "execution_count": 30,
   "id": "bc8e93fd",
   "metadata": {},
   "outputs": [
    {
     "name": "stdout",
     "output_type": "stream",
     "text": [
      "[]\n"
     ]
    }
   ],
   "source": [
    "fruit.clear()\n",
    "\n",
    "print(fruit)"
   ]
  },
  {
   "cell_type": "code",
   "execution_count": 31,
   "id": "ce839a67",
   "metadata": {},
   "outputs": [
    {
     "name": "stdout",
     "output_type": "stream",
     "text": [
      "[3, 4, 5]\n",
      "[1, 2, 3, 4, 5]\n",
      "[6, 7, 8, 9, 10]\n",
      "[1, 3, 5, 7, 9]\n",
      "[10, 9, 8, 7, 6, 5, 4, 3, 2, 1]\n"
     ]
    }
   ],
   "source": [
    "## slicing list\n",
    "\n",
    "number = [1,2,3,4,5,6,7,8,9,10]\n",
    "\n",
    "print(number[2:5])\n",
    "print(number[:5])\n",
    "print(number[5:])\n",
    "print(number[::2])\n",
    "print(number[::-1])"
   ]
  },
  {
   "cell_type": "code",
   "execution_count": 37,
   "id": "3a6233e1",
   "metadata": {},
   "outputs": [
    {
     "name": "stdout",
     "output_type": "stream",
     "text": [
      "1\n",
      "2\n",
      "3\n",
      "4\n",
      "5\n",
      "6\n",
      "7\n",
      "8\n",
      "9\n",
      "10\n"
     ]
    }
   ],
   "source": [
    "## interation of list\n",
    "for num in number:\n",
    "    print(num)"
   ]
  },
  {
   "cell_type": "code",
   "execution_count": 42,
   "id": "245aca39",
   "metadata": {},
   "outputs": [
    {
     "name": "stdout",
     "output_type": "stream",
     "text": [
      "0 1\n",
      "1 2\n",
      "2 3\n",
      "3 4\n",
      "4 5\n",
      "5 6\n",
      "6 7\n",
      "7 8\n",
      "8 9\n",
      "9 10\n"
     ]
    }
   ],
   "source": [
    "## itreating with index\n",
    "\n",
    "for index,num in enumerate(number):\n",
    "    print(index,num) "
   ]
  },
  {
   "cell_type": "markdown",
   "id": "ef3210f5",
   "metadata": {},
   "source": [
    "#### list comprehension"
   ]
  },
  {
   "cell_type": "code",
   "execution_count": null,
   "id": "96004c3b",
   "metadata": {},
   "outputs": [
    {
     "name": "stdout",
     "output_type": "stream",
     "text": [
      "[0, 1, 4, 9, 16, 25, 36, 49, 64, 81]\n"
     ]
    }
   ],
   "source": [
    "## basic list comphrension\n",
    "\n",
    "\n",
    "square = [num**2 for num in range(10) ]\n",
    "\n",
    "print(square)\n",
    "\n"
   ]
  },
  {
   "cell_type": "code",
   "execution_count": 44,
   "id": "0cc8f839",
   "metadata": {},
   "outputs": [
    {
     "name": "stdout",
     "output_type": "stream",
     "text": [
      "[0, 2, 4, 6, 8]\n"
     ]
    }
   ],
   "source": [
    "## list comprehsnion condition logic\n",
    "ls=[]\n",
    "for i in range(10):\n",
    "    if i%2==0:\n",
    "        ls.append(i)\n",
    "print(ls)"
   ]
  },
  {
   "cell_type": "code",
   "execution_count": 3,
   "id": "344f7af4",
   "metadata": {},
   "outputs": [
    {
     "name": "stdout",
     "output_type": "stream",
     "text": [
      "0 1\n",
      "1 2\n",
      "2 3\n",
      "3 4\n",
      "4 5\n",
      "5 6\n",
      "6 7\n",
      "7 8\n",
      "8 9\n",
      "9 10\n"
     ]
    }
   ],
   "source": [
    "number = [1,2,3,4,5,6,7,8,9,10]\n",
    "\n",
    "\n",
    "for index,num in enumerate(number):\n",
    "    print(index,num)"
   ]
  },
  {
   "cell_type": "code",
   "execution_count": null,
   "id": "540cd781",
   "metadata": {},
   "outputs": [
    {
     "data": {
      "text/plain": [
       "[0, 1, 4, 9, 16, 25, 36, 49, 64, 81]"
      ]
     },
     "execution_count": 4,
     "metadata": {},
     "output_type": "execute_result"
    }
   ],
   "source": [
    "## list comprehension\n",
    "\n",
    "\n",
    "[x**2 for x in range(10)]\n",
    "\n"
   ]
  },
  {
   "cell_type": "code",
   "execution_count": null,
   "id": "da2e3f7b",
   "metadata": {},
   "outputs": [],
   "source": [
    "## list comprehension\n",
    "\n",
    "## basic syntax [expression for item in itreable]\n",
    "\n",
    "## with condition logic [expression for item in iterable if condition]"
   ]
  },
  {
   "cell_type": "code",
   "execution_count": 8,
   "id": "37b8abd5",
   "metadata": {},
   "outputs": [
    {
     "name": "stdout",
     "output_type": "stream",
     "text": [
      "[0, 1, 4, 9, 16, 25, 36, 49, 64, 81]\n"
     ]
    }
   ],
   "source": [
    "square = [x**2 for x in range(10)]\n",
    "\n",
    "print(square)"
   ]
  },
  {
   "cell_type": "code",
   "execution_count": 10,
   "id": "99676785",
   "metadata": {},
   "outputs": [
    {
     "name": "stdout",
     "output_type": "stream",
     "text": [
      "[0, 2, 4, 6, 8]\n"
     ]
    }
   ],
   "source": [
    "even = [num for num in range(10) if num%2==0]\n",
    "print(even)"
   ]
  },
  {
   "cell_type": "code",
   "execution_count": 13,
   "id": "ae6bfb4c",
   "metadata": {},
   "outputs": [
    {
     "name": "stdout",
     "output_type": "stream",
     "text": [
      "[[1, 'a'], [1, 'b'], [1, 'c'], [1, 'd'], [1, 'e'], [1, 'f'], [2, 'a'], [2, 'b'], [2, 'c'], [2, 'd'], [2, 'e'], [2, 'f'], [3, 'a'], [3, 'b'], [3, 'c'], [3, 'd'], [3, 'e'], [3, 'f'], [4, 'a'], [4, 'b'], [4, 'c'], [4, 'd'], [4, 'e'], [4, 'f'], [5, 'a'], [5, 'b'], [5, 'c'], [5, 'd'], [5, 'e'], [5, 'f'], [6, 'a'], [6, 'b'], [6, 'c'], [6, 'd'], [6, 'e'], [6, 'f']]\n"
     ]
    }
   ],
   "source": [
    "## nested list comprehension\n",
    "\n",
    "lst1 = [1,2,3,4,5,6]\n",
    "\n",
    "lst2 = ['a','b','c','d','e','f']\n",
    "\n",
    "\n",
    "pair=[[i,j]for i in lst1 for j in lst2]\n",
    "\n",
    "print(pair)"
   ]
  },
  {
   "cell_type": "code",
   "execution_count": null,
   "id": "275255a5",
   "metadata": {},
   "outputs": [
    {
     "name": "stdout",
     "output_type": "stream",
     "text": [
      "[5, 5, 6]\n"
     ]
    },
    {
     "ename": "",
     "evalue": "",
     "output_type": "error",
     "traceback": [
      "\u001b[1;31mThe Kernel crashed while executing code in the current cell or a previous cell. \n",
      "\u001b[1;31mPlease review the code in the cell(s) to identify a possible cause of the failure. \n",
      "\u001b[1;31mClick <a href='https://aka.ms/vscodeJupyterKernelCrash'>here</a> for more info. \n",
      "\u001b[1;31mView Jupyter <a href='command:jupyter.viewOutput'>log</a> for further details."
     ]
    }
   ],
   "source": [
    "## list comprenshsion\n",
    "\n",
    "words = [\"hello\",\"world\",\"python\"]\n",
    "\n",
    "length = [len(word) for word in words]\n",
    "\n",
    "print(length)"
   ]
  },
  {
   "cell_type": "code",
   "execution_count": 1,
   "id": "4fcecf94",
   "metadata": {},
   "outputs": [
    {
     "data": {
      "text/plain": [
       "['*****', '****', '***', ' ** ', '  *  ', ' ** ', '***', '****', '*****']"
      ]
     },
     "execution_count": 1,
     "metadata": {},
     "output_type": "execute_result"
    }
   ],
   "source": [
    "def generate_sandglass(n):\n",
    "    \"\"\"\n",
    "    Function to return a sandglass pattern of '*' of side n as a list of strings.\n",
    "    \n",
    "    Parameters:\n",
    "    n (int): The height of the sandglass.\n",
    "    \n",
    "    Returns:\n",
    "    list: A list of strings where each string represents a row of the sandglass pattern.\n",
    "    \"\"\"\n",
    "    # Your code here\n",
    "    \n",
    "    lst = []\n",
    "    \n",
    "\n",
    "    \n",
    "    for i in range  (2*n-1,1,-1):\n",
    "        lst.append(' '*(n-i)+'*'*i+' '*(n-i))\n",
    "    \n",
    "    for j in range (1,2*n):\n",
    "        lst.append(' '*(n-j)+'*'*j+' '*(n-j))\n",
    "        \n",
    "    return lst\n",
    "\n",
    "\n",
    "\n",
    "generate_sandglass(3)"
   ]
  },
  {
   "cell_type": "code",
   "execution_count": 2,
   "id": "fc370318",
   "metadata": {},
   "outputs": [
    {
     "name": "stdout",
     "output_type": "stream",
     "text": [
      "*\n",
      "*\n",
      "*\n",
      "*\n"
     ]
    }
   ],
   "source": [
    "for i in range(4):\n",
    "    print('*')"
   ]
  },
  {
   "cell_type": "code",
   "execution_count": 4,
   "id": "2788e0ed",
   "metadata": {},
   "outputs": [],
   "source": [
    "def hollow_right_triangle(rows):\n",
    "    for i in range(1, rows + 1):  # Outer loop for rows\n",
    "        for j in range(1, i + 1):  # Inner loop for columns\n",
    "            # Conditions to print a star:\n",
    "            # 1. First column (j == 1)\n",
    "            # 2. Last column of the current row (j == i)\n",
    "            # 3. Last row (i == rows)\n",
    "            if j == 1 or j == i or i == rows:\n",
    "                print(\"*\", end=\"\")\n",
    "            else:\n",
    "                print(\" \", end=\"\")\n",
    "        print()  # Move to the next line after each row\n",
    "\n",
    "\n",
    "        hollow_right_triangle(5)"
   ]
  },
  {
   "cell_type": "code",
   "execution_count": 8,
   "id": "7672b11e",
   "metadata": {},
   "outputs": [
    {
     "name": "stdout",
     "output_type": "stream",
     "text": [
      "2 3\n"
     ]
    }
   ],
   "source": [
    "odd_count = 0\n",
    "even_count = 0\n",
    "lst= [1,2,3,4,5]   \n",
    "\n",
    "odd_count = 0\n",
    "even_count = 0\n",
    "    \n",
    "for n in range(len(lst)):\n",
    "    if lst[n]%2==0:\n",
    "        even_count += 1\n",
    "    else:\n",
    "         odd_count += 1\n",
    "            \n",
    "\n",
    "\n",
    "print(even_count,odd_count)"
   ]
  },
  {
   "cell_type": "code",
   "execution_count": 62,
   "id": "ee256e2b",
   "metadata": {},
   "outputs": [
    {
     "name": "stdout",
     "output_type": "stream",
     "text": [
      "[6]\n",
      "[4]\n",
      "[7]\n",
      "[5]\n",
      "5\n"
     ]
    }
   ],
   "source": [
    "lst = [1, 7, 3, 10, 5]\n",
    "n = len(lst)\n",
    "for i in range(n-1):\n",
    "    A = abs(lst[i]-lst[i+1])\n",
    "    l_m = []\n",
    "    l_m.append(A)\n",
    "\n",
    "    print(l_m)\n",
    "\n",
    "\n",
    "print(min(l_m))\n",
    "    "
   ]
  },
  {
   "cell_type": "code",
   "execution_count": null,
   "id": "a20a4fc8",
   "metadata": {},
   "outputs": [
    {
     "ename": "AttributeError",
     "evalue": "'list' object has no attribute 'set'",
     "output_type": "error",
     "traceback": [
      "\u001b[31m---------------------------------------------------------------------------\u001b[39m",
      "\u001b[31mAttributeError\u001b[39m                            Traceback (most recent call last)",
      "\u001b[36mCell\u001b[39m\u001b[36m \u001b[39m\u001b[32mIn[70]\u001b[39m\u001b[32m, line 4\u001b[39m\n\u001b[32m      1\u001b[39m list1 = [\u001b[32m1\u001b[39m, \u001b[32m3\u001b[39m, \u001b[32m5\u001b[39m]\n\u001b[32m      2\u001b[39m list2 = [\u001b[32m2\u001b[39m, \u001b[32m4\u001b[39m, \u001b[32m6\u001b[39m]\n\u001b[32m----> \u001b[39m\u001b[32m4\u001b[39m a = \u001b[43mlist1\u001b[49m\u001b[43m.\u001b[49m\u001b[43mset\u001b[49m.is_subset(list2)\n\u001b[32m      6\u001b[39m list1.extend(list2)\n\u001b[32m      8\u001b[39m list1.sort()\n",
      "\u001b[31mAttributeError\u001b[39m: 'list' object has no attribute 'set'"
     ]
    }
   ],
   "source": [
    "a = list1.set.is_subset(list2)list1 = [1, 3, 5]\n",
    "list2 = [2, 4, 6]\n",
    "\n",
    "\n",
    "\n",
    "list1.extend(list2)\n",
    "    \n",
    "list1.sort()\n",
    "\n",
    "print(list1)\n",
    "\n",
    "print(a)"
   ]
  },
  {
   "cell_type": "code",
   "execution_count": null,
   "id": "2db36d2d",
   "metadata": {},
   "outputs": [
    {
     "ename": "NameError",
     "evalue": "name 'tup' is not defined",
     "output_type": "error",
     "traceback": [
      "\u001b[31m---------------------------------------------------------------------------\u001b[39m",
      "\u001b[31mNameError\u001b[39m                                 Traceback (most recent call last)",
      "\u001b[36mCell\u001b[39m\u001b[36m \u001b[39m\u001b[32mIn[67]\u001b[39m\u001b[32m, line 3\u001b[39m\n\u001b[32m      1\u001b[39m tup: (\u001b[32m1\u001b[39m, \u001b[32m2\u001b[39m, \u001b[32m3\u001b[39m, \u001b[32m2\u001b[39m, \u001b[32m1\u001b[39m)\n\u001b[32m----> \u001b[39m\u001b[32m3\u001b[39m \u001b[38;5;28mprint\u001b[39m(\u001b[43mtup\u001b[49m.reversed)\n",
      "\u001b[31mNameError\u001b[39m: name 'tup' is not defined"
     ]
    }
   ],
   "source": [
    "tup: (1, 2, 3, 2, 1)\n",
    "\n",
    "reversed"
   ]
  },
  {
   "cell_type": "code",
   "execution_count": 117,
   "id": "855d4f90",
   "metadata": {},
   "outputs": [
    {
     "name": "stdout",
     "output_type": "stream",
     "text": [
      "30\n"
     ]
    }
   ],
   "source": [
    "n = 5\n",
    "c = 0\n",
    "\n",
    "for i in range(n+1):\n",
    "    b = i*2\n",
    "    c += b\n",
    "\n",
    "print(c)"
   ]
  },
  {
   "cell_type": "code",
   "execution_count": 119,
   "id": "bf2ce770",
   "metadata": {},
   "outputs": [
    {
     "name": "stdout",
     "output_type": "stream",
     "text": [
      "True\n",
      "True\n",
      "True\n"
     ]
    }
   ],
   "source": [
    "n = 5\n",
    "for i in range (2,5):\n",
    "        if(n%i==0):\n",
    "           print(False)    \n",
    "        else:\n",
    "            print(True)"
   ]
  }
 ],
 "metadata": {
  "kernelspec": {
   "display_name": "Python 3",
   "language": "python",
   "name": "python3"
  },
  "language_info": {
   "codemirror_mode": {
    "name": "ipython",
    "version": 3
   },
   "file_extension": ".py",
   "mimetype": "text/x-python",
   "name": "python",
   "nbconvert_exporter": "python",
   "pygments_lexer": "ipython3",
   "version": "3.12.0"
  }
 },
 "nbformat": 4,
 "nbformat_minor": 5
}
