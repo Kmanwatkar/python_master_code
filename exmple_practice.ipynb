{
 "cells": [
  {
   "cell_type": "code",
   "execution_count": 10,
   "id": "9f947b25",
   "metadata": {},
   "outputs": [
    {
     "name": "stdout",
     "output_type": "stream",
     "text": [
      "<class 'list'>\n",
      "<class 'set'>\n",
      "<class 'tuple'>\n",
      "<class 'dict'>\n",
      "[9, 5, 4, 3, 2, 1]\n"
     ]
    }
   ],
   "source": [
    "# list set tuples, dicttonaries\n",
    "\n",
    "\n",
    "\n",
    "lst=[1,2,3,4,5]\n",
    "\n",
    "print(type(lst))\n",
    "\n",
    "\n",
    "set={1,2,3,4,5}\n",
    "\n",
    "print(type(set))\n",
    "\n",
    "tup = (1,2,3,4,5)\n",
    "\n",
    "print(type(tup))\n",
    "\n",
    "dict = {\"name\":\"kshitij\"}\n",
    "\n",
    "print(type(dict))\n",
    "\n",
    "\n",
    "lst.append(9)\n",
    "lst.reverse()\n",
    "\n",
    "print(lst)"
   ]
  }
 ],
 "metadata": {
  "kernelspec": {
   "display_name": "Python 3",
   "language": "python",
   "name": "python3"
  },
  "language_info": {
   "codemirror_mode": {
    "name": "ipython",
    "version": 3
   },
   "file_extension": ".py",
   "mimetype": "text/x-python",
   "name": "python",
   "nbconvert_exporter": "python",
   "pygments_lexer": "ipython3",
   "version": "3.12.0"
  }
 },
 "nbformat": 4,
 "nbformat_minor": 5
}
