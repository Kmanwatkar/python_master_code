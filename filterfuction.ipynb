{
 "cells": [
  {
   "cell_type": "code",
   "execution_count": null,
   "id": "34a6c41e",
   "metadata": {},
   "outputs": [],
   "source": [
    "def even(num):\n",
    "    if num%2==0:\n",
    "        return True\n",
    "    \n",
    "\n",
    "\n"
   ]
  },
  {
   "cell_type": "code",
   "execution_count": 13,
   "id": "7446c3d4",
   "metadata": {},
   "outputs": [
    {
     "name": "stdout",
     "output_type": "stream",
     "text": [
      "[6, 8, 10]\n"
     ]
    }
   ],
   "source": [
    "## filter with lambda function and multiple conditions\n",
    "\n",
    "\n",
    "number = [1,2,3,4,5,6,7,8,9,10]\n",
    "\n",
    "even_and_greater_than_five = list(filter(lambda x:x%2==0 and x>5,number))\n",
    "\n",
    "print(even_and_greater_than_five)"
   ]
  },
  {
   "cell_type": "code",
   "execution_count": 15,
   "id": "6eda8746",
   "metadata": {},
   "outputs": [
    {
     "data": {
      "text/plain": [
       "[{'name': 'kshitij', 'age': 29}, {'name': 'yash', 'age': 29}]"
      ]
     },
     "execution_count": 15,
     "metadata": {},
     "output_type": "execute_result"
    }
   ],
   "source": [
    "## apply fiter if age is greter than 25 in discitonary\n",
    "\n",
    "people = [{'name':'kshitij','age':29},\n",
    "          {'name':'yash','age':29}]\n",
    "\n",
    "def age_than_25(people):\n",
    "\n",
    "    return people['age']>25\n",
    "\n",
    "list(filter(age_than_25,people))"
   ]
  }
 ],
 "metadata": {
  "kernelspec": {
   "display_name": "Python 3",
   "language": "python",
   "name": "python3"
  },
  "language_info": {
   "codemirror_mode": {
    "name": "ipython",
    "version": 3
   },
   "file_extension": ".py",
   "mimetype": "text/x-python",
   "name": "python",
   "nbconvert_exporter": "python",
   "pygments_lexer": "ipython3",
   "version": "3.12.0"
  }
 },
 "nbformat": 4,
 "nbformat_minor": 5
}
