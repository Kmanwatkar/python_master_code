{
 "cells": [
  {
   "cell_type": "code",
   "execution_count": 7,
   "id": "2175acc4",
   "metadata": {},
   "outputs": [
    {
     "name": "stdout",
     "output_type": "stream",
     "text": [
      "please buy me the milk\n",
      "to do remaining work\n",
      "-buy milk\n",
      "-stock up the shop\n",
      "-walking with dog\n"
     ]
    }
   ],
   "source": [
    "to_do_list = [\"buy milk\",\"fix fan\",\"stock up the shop\"]\n",
    "\n",
    "\n",
    "to_do_list.append(\"walking with dog\")\n",
    "\n",
    "to_do_list.remove(\"fix fan\")\n",
    "\n",
    "\n",
    "if \"buy milk\" in to_do_list:\n",
    "    print(\"please buy me the milk\")\n",
    "\n",
    "\n",
    "print(\"to do remaining work\" )\n",
    "\n",
    "for task in to_do_list:\n",
    "    print(f\"-{task}\")\n",
    "\n"
   ]
  },
  {
   "cell_type": "code",
   "execution_count": 9,
   "id": "420644e8",
   "metadata": {},
   "outputs": [
    {
     "name": "stdout",
     "output_type": "stream",
     "text": [
      "average grade:  66.83\n",
      "max and min grad 90 23\n"
     ]
    }
   ],
   "source": [
    "grades = [89,56,78,23,65,90]\n",
    "\n",
    "\n",
    "average_grades = sum(grades)/len(grades)\n",
    "print(f\"average grade: {average_grades: .2f}\")\n",
    "\n",
    "higest_grade = max(grades)\n",
    "\n",
    "lowest_grade = min(grades)\n",
    "\n",
    "print(\"max and min grad\", higest_grade,lowest_grade)"
   ]
  },
  {
   "cell_type": "code",
   "execution_count": null,
   "id": "b41202da",
   "metadata": {},
   "outputs": [],
   "source": [
    "## collecting user feedback\n",
    "\n",
    "feedback = [\"great service\",\"could be better\",\"dissapointing\"]\n",
    "\n",
    "\n",
    "\n"
   ]
  }
 ],
 "metadata": {
  "kernelspec": {
   "display_name": "Python 3",
   "language": "python",
   "name": "python3"
  },
  "language_info": {
   "codemirror_mode": {
    "name": "ipython",
    "version": 3
   },
   "file_extension": ".py",
   "mimetype": "text/x-python",
   "name": "python",
   "nbconvert_exporter": "python",
   "pygments_lexer": "ipython3",
   "version": "3.12.0"
  }
 },
 "nbformat": 4,
 "nbformat_minor": 5
}
