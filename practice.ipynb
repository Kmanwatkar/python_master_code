{
 "cells": [
  {
   "cell_type": "code",
   "execution_count": 3,
   "id": "fc82a25b",
   "metadata": {},
   "outputs": [
    {
     "name": "stdout",
     "output_type": "stream",
     "text": [
      "0\n",
      "1\n",
      "2\n",
      "3\n",
      "4\n",
      "5\n",
      "6\n",
      "7\n",
      "8\n",
      "9\n",
      "10\n",
      "11\n",
      "12\n",
      "13\n"
     ]
    }
   ],
   "source": [
    "a = int(input(\"give me your age\"))\n",
    "\n",
    "for a in range(a):\n",
    "    print(a)"
   ]
  },
  {
   "cell_type": "code",
   "execution_count": 5,
   "id": "c01206d2",
   "metadata": {},
   "outputs": [
    {
     "name": "stdout",
     "output_type": "stream",
     "text": [
      "0\n",
      "1\n",
      "2\n",
      "3\n",
      "4\n",
      "5\n"
     ]
    }
   ],
   "source": [
    "count = 0\n",
    "\n",
    "while count<6:\n",
    "    print(count)\n",
    "\n",
    "    count = count+1"
   ]
  },
  {
   "cell_type": "code",
   "execution_count": 10,
   "id": "988d2049",
   "metadata": {},
   "outputs": [
    {
     "name": "stdout",
     "output_type": "stream",
     "text": [
      "0\n",
      "1\n",
      "2\n",
      "3\n",
      "4\n",
      "5\n",
      "6\n",
      "7\n",
      "8\n",
      "9\n"
     ]
    }
   ],
   "source": [
    "for i in range(10):\n",
    "    print(i)"
   ]
  },
  {
   "cell_type": "code",
   "execution_count": 12,
   "id": "ba04526d",
   "metadata": {},
   "outputs": [
    {
     "name": "stdout",
     "output_type": "stream",
     "text": [
      "apple\n",
      "banana\n",
      "cherry\n"
     ]
    }
   ],
   "source": [
    "p = [\"apple\", \"banana\", \"cherry\"]\n",
    "\n",
    "for i in range(3):\n",
    "    print(p[i])\n",
    "    \n",
    "    "
   ]
  },
  {
   "cell_type": "code",
   "execution_count": 16,
   "id": "6de7fe9c",
   "metadata": {},
   "outputs": [
    {
     "name": "stdout",
     "output_type": "stream",
     "text": [
      "p\n",
      "y\n",
      "t\n",
      "h\n",
      "o\n",
      "n\n"
     ]
    }
   ],
   "source": [
    "name = \"python\"\n",
    "\n",
    "for i in name:\n",
    "    print(i)\n",
    "    "
   ]
  },
  {
   "cell_type": "code",
   "execution_count": 18,
   "id": "a566b1b4",
   "metadata": {},
   "outputs": [
    {
     "name": "stdout",
     "output_type": "stream",
     "text": [
      "10\n"
     ]
    }
   ],
   "source": [
    "sum = 0\n",
    "for i in range(5):\n",
    "    sum = i+sum\n",
    "\n",
    "print(sum)"
   ]
  },
  {
   "cell_type": "code",
   "execution_count": 20,
   "id": "4e7137bd",
   "metadata": {},
   "outputs": [
    {
     "name": "stdout",
     "output_type": "stream",
     "text": [
      "0\n",
      "7\n",
      "14\n",
      "21\n",
      "28\n",
      "35\n",
      "42\n",
      "49\n",
      "56\n",
      "63\n",
      "70\n"
     ]
    }
   ],
   "source": [
    "sum = 7\n",
    "\n",
    "for i in range(11):\n",
    "    sum = 7*i\n",
    "\n",
    "    print(sum)"
   ]
  },
  {
   "cell_type": "markdown",
   "id": "c8d3f03f",
   "metadata": {},
   "source": [
    "WHile loop Practice"
   ]
  },
  {
   "cell_type": "code",
   "execution_count": 23,
   "id": "3ad3de73",
   "metadata": {},
   "outputs": [
    {
     "name": "stdout",
     "output_type": "stream",
     "text": [
      "1\n",
      "2\n",
      "3\n",
      "4\n",
      "5\n"
     ]
    }
   ],
   "source": [
    "count = 0\n",
    "while count <5:\n",
    "    count = count+1\n",
    "    print(count)\n",
    "    "
   ]
  },
  {
   "cell_type": "code",
   "execution_count": 51,
   "id": "cdb0f562",
   "metadata": {},
   "outputs": [],
   "source": [
    "count = 0\n",
    "\n",
    "while count<10:\n",
    "   count = int(input(\"give me a number greater than or equal to 10\"))\n",
    "    "
   ]
  },
  {
   "cell_type": "code",
   "execution_count": null,
   "id": "a1e3e683",
   "metadata": {},
   "outputs": [
    {
     "name": "stdout",
     "output_type": "stream",
     "text": [
      "1\n",
      "2\n",
      "6\n",
      "24\n",
      "120\n"
     ]
    }
   ],
   "source": [
    "count =0\n",
    "sum = 1\n",
    "while count <5:\n",
    "   count = count+1\n",
    "   sum *= count\n",
    "\n",
    "   print(sum)"
   ]
  },
  {
   "cell_type": "code",
   "execution_count": 21,
   "id": "aaf07caf",
   "metadata": {},
   "outputs": [
    {
     "name": "stdout",
     "output_type": "stream",
     "text": [
      "better luck next time\n",
      "better luck next time\n",
      "better luck next time\n"
     ]
    }
   ],
   "source": [
    "## guessing Game\n",
    "\n",
    "count = 0\n",
    "while count <3:\n",
    "   count =count+1\n",
    "   b=int(input(\"give me the number\"))\n",
    "   \n",
    "   if b==7:\n",
    "      print(\"correct guess\")\n",
    "      break\n",
    "      \n",
    "   else:\n",
    "      print(\"better luck next time\")\n",
    "\n"
   ]
  },
  {
   "cell_type": "code",
   "execution_count": 25,
   "id": "61cbe2f8",
   "metadata": {},
   "outputs": [
    {
     "name": "stdout",
     "output_type": "stream",
     "text": [
      "4\n",
      "3\n",
      "2\n",
      "1\n",
      "0\n",
      "blast off!\n"
     ]
    }
   ],
   "source": [
    "count = 5 \n",
    "while count > 0:\n",
    "    count = count-1\n",
    "    print(count)\n",
    "    \n",
    "print(\"blast off!\")"
   ]
  }
 ],
 "metadata": {
  "kernelspec": {
   "display_name": "Python 3",
   "language": "python",
   "name": "python3"
  },
  "language_info": {
   "codemirror_mode": {
    "name": "ipython",
    "version": 3
   },
   "file_extension": ".py",
   "mimetype": "text/x-python",
   "name": "python",
   "nbconvert_exporter": "python",
   "pygments_lexer": "ipython3",
   "version": "3.12.0"
  }
 },
 "nbformat": 4,
 "nbformat_minor": 5
}
