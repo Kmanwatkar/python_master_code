{
 "cells": [
  {
   "cell_type": "code",
   "execution_count": 40,
   "id": "b61a155c",
   "metadata": {},
   "outputs": [
    {
     "name": "stdout",
     "output_type": "stream",
     "text": [
      "['', '*', '**', '***']\n"
     ]
    }
   ],
   "source": [
    "n =4\n",
    "lst = []\n",
    "for c in range(n):\n",
    "        lst.append('*'*c)\n",
    "        \n",
    "             \n",
    "            \n",
    "print(lst)\n",
    "\n",
    "\n",
    "\n",
    "\n"
   ]
  },
  {
   "cell_type": "code",
   "execution_count": null,
   "id": "d6a8f4c1",
   "metadata": {},
   "outputs": [],
   "source": []
  },
  {
   "cell_type": "code",
   "execution_count": null,
   "id": "41ed592f",
   "metadata": {},
   "outputs": [],
   "source": []
  },
  {
   "cell_type": "code",
   "execution_count": null,
   "id": "df44d37d",
   "metadata": {},
   "outputs": [
    {
     "name": "stdout",
     "output_type": "stream",
     "text": [
      "['*****', '*   *', '*****', '*   *', '*****', '*   *', '*****', '*   *', '*****', '*   *']\n"
     ]
    }
   ],
   "source": [
    "## hollow square of side N\n",
    "\n",
    "n =5\n",
    "lst = []\n",
    "for c in range(n):\n",
    "        lst.append('*'*n)\n",
    "        lst.append('*'+((n-2)*' ')+'*')\n",
    "\n",
    "        \n",
    "\n",
    "\n",
    "\n",
    "        \n",
    "             \n",
    "            \n",
    "\n",
    "\n",
    "\n",
    "\n"
   ]
  },
  {
   "cell_type": "code",
   "execution_count": null,
   "id": "c7fa2315",
   "metadata": {},
   "outputs": [
    {
     "name": "stdout",
     "output_type": "stream",
     "text": [
      "['**', '**', '**']\n"
     ]
    }
   ],
   "source": [
    "n=3\n",
    "m=2\n",
    "lst = []\n",
    "for p in range(n):\n",
    "    lst.append('*'*m)\n",
    "    \n",
    "        \n",
    "        \n",
    "        \n",
    "        \n",
    "        \n",
    "        \n",
    "        \n",
    "        \n",
    "print(lst)"
   ]
  },
  {
   "cell_type": "code",
   "execution_count": 137,
   "id": "a32c0a93",
   "metadata": {},
   "outputs": [
    {
     "name": "stdout",
     "output_type": "stream",
     "text": [
      "['*']\n"
     ]
    }
   ],
   "source": [
    "n = 1\n",
    "lst = []\n",
    "\n",
    "for i in range(n+1):\n",
    "        lst.append('*'*i)\n",
    "        \n",
    "    # return lst\n",
    "lst.remove('')\n",
    "print(lst)"
   ]
  },
  {
   "cell_type": "code",
   "execution_count": 151,
   "id": "3fef1ac0",
   "metadata": {},
   "outputs": [
    {
     "name": "stdout",
     "output_type": "stream",
     "text": [
      "['*', '**', '***', '****']\n"
     ]
    }
   ],
   "source": [
    "n = 5\n",
    "\n",
    "lst = []\n",
    "\n",
    "for p in range(n):\n",
    "    lst.append('*'*p)\n",
    "    lst.append('*'*(n))\n",
    "\n",
    "lst.remove('')\n",
    "\n",
    "print(lst)\n"
   ]
  },
  {
   "cell_type": "code",
   "execution_count": null,
   "id": "99da80a4",
   "metadata": {},
   "outputs": [
    {
     "ename": "TypeError",
     "evalue": "list.append() takes no keyword arguments",
     "output_type": "error",
     "traceback": [
      "\u001b[31m---------------------------------------------------------------------------\u001b[39m",
      "\u001b[31mTypeError\u001b[39m                                 Traceback (most recent call last)",
      "\u001b[36mCell\u001b[39m\u001b[36m \u001b[39m\u001b[32mIn[274]\u001b[39m\u001b[32m, line 8\u001b[39m\n\u001b[32m      5\u001b[39m \u001b[38;5;28;01mfor\u001b[39;00m i \u001b[38;5;129;01min\u001b[39;00m \u001b[38;5;28mrange\u001b[39m(\u001b[32m1\u001b[39m,n+\u001b[32m1\u001b[39m):\n\u001b[32m      6\u001b[39m         \u001b[38;5;28;01mfor\u001b[39;00m j \u001b[38;5;129;01min\u001b[39;00m \u001b[38;5;28mrange\u001b[39m(\u001b[32m1\u001b[39m,i+\u001b[32m1\u001b[39m):\n\u001b[32m----> \u001b[39m\u001b[32m8\u001b[39m             \u001b[43mlst\u001b[49m\u001b[43m.\u001b[49m\u001b[43mappend\u001b[49m\u001b[43m(\u001b[49m\u001b[43mnum\u001b[49m\u001b[43m,\u001b[49m\u001b[43mend\u001b[49m\u001b[43m \u001b[49m\u001b[43m=\u001b[49m\u001b[33;43m'\u001b[39;49m\u001b[33;43m'\u001b[39;49m\u001b[43m)\u001b[49m\n\u001b[32m     10\u001b[39m             num +=\u001b[32m1\u001b[39m\n\u001b[32m     12\u001b[39m \u001b[38;5;28mprint\u001b[39m(lst)\n",
      "\u001b[31mTypeError\u001b[39m: list.append() takes no keyword arguments"
     ]
    }
   ],
   "source": [
    "n = 3\n",
    "\n",
    "lst = []\n",
    "num = 1\n",
    "for i in range(1,n+1):\n",
    "        for j in range(1,i+1):\n",
    "            \n",
    "            lst.append(num , end ='')\n",
    "            \n",
    "            num +=1\n",
    "\n",
    "print(lst)"
   ]
  },
  {
   "cell_type": "code",
   "execution_count": 267,
   "id": "9d501d1c",
   "metadata": {},
   "outputs": [
    {
     "name": "stdout",
     "output_type": "stream",
     "text": [
      "['  *  ', ' *** ', '*****']\n"
     ]
    }
   ],
   "source": [
    "n = 3\n",
    "\n",
    "m=n\n",
    "lst = []\n",
    "\n",
    "for p in range(n+1):\n",
    "    lst.append((' '*(n-p))+'*'*(2*p-1)+' '*(n-p))\n",
    "    for n in range(p-1):\n",
    "        \n",
    "    \n",
    "del lst[0]\n",
    "print(lst)"
   ]
  },
  {
   "cell_type": "code",
   "execution_count": 238,
   "id": "aaa0ecfa",
   "metadata": {},
   "outputs": [
    {
     "name": "stdout",
     "output_type": "stream",
     "text": [
      "['', '1', '22', '333']\n"
     ]
    }
   ],
   "source": [
    "n=3\n",
    "lst = []\n",
    "for i in range (n+1):\n",
    "    lst.append(str(i)*i)\n",
    "\n",
    "\n",
    "##lst.remove(0)\n",
    "print(lst)\n",
    "\n"
   ]
  },
  {
   "cell_type": "code",
   "execution_count": 266,
   "id": "afa8465c",
   "metadata": {},
   "outputs": [
    {
     "name": "stdout",
     "output_type": "stream",
     "text": [
      "['1', '2', '3', '4', '5', '6']\n"
     ]
    }
   ],
   "source": [
    "n=3\n",
    "lst = []\n",
    "val = 1\n",
    "for i in range(1, n + 1):\n",
    "\n",
    "    for j in range(1, i + 1):\n",
    "        lst.append(str(val))\n",
    "        val += 1\n",
    "        \n",
    "print(lst)\n",
    "\n"
   ]
  },
  {
   "cell_type": "code",
   "execution_count": null,
   "id": "997befcf",
   "metadata": {},
   "outputs": [],
   "source": [
    "lst = []\n",
    "    \n",
    "for x in range(n+1):\n",
    "    for j in range()"
   ]
  },
  {
   "cell_type": "code",
   "execution_count": 39,
   "id": "59d3feae",
   "metadata": {},
   "outputs": [
    {
     "name": "stdout",
     "output_type": "stream",
     "text": [
      "['*', '**', '***', '****', '*****']\n"
     ]
    }
   ],
   "source": [
    "## dimond \n",
    "n = 5\n",
    "\n",
    "lst = []\n",
    "\n",
    "for i in range(1,n+1):\n",
    "    lst.append('*'*i)\n",
    "    \n",
    "\n",
    "print(lst)"
   ]
  },
  {
   "cell_type": "code",
   "execution_count": 117,
   "id": "8202981d",
   "metadata": {},
   "outputs": [
    {
     "name": "stdout",
     "output_type": "stream",
     "text": [
      "['*******', ' ***** ', '  ***  ', '   *   ', '  ***  ', ' ***** ', '*******']\n"
     ]
    }
   ],
   "source": [
    "n = 4\n",
    "lst = []\n",
    "\n",
    "\n",
    "    \n",
    "        \n",
    "for j in range(p,1,-1):\n",
    "        \n",
    "        lst.append((' '*(n-j))+'*'*(2*j-1)+' '*(n-j))\n",
    "\n",
    "for p in range(1,n+1):\n",
    "        lst.append((' '*(n-p))+'*'*(2*p-1)+' '*(n-p))\n",
    "        \n",
    "print(lst)"
   ]
  },
  {
   "cell_type": "code",
   "execution_count": 107,
   "id": "d40d5de0",
   "metadata": {},
   "outputs": [
    {
     "name": "stdout",
     "output_type": "stream",
     "text": [
      "['  *', ' **', '***']\n"
     ]
    }
   ],
   "source": [
    "n= 3\n",
    "lst = []\n",
    "    \n",
    "for i in range(1,n+1):\n",
    "        lst.append(' '*(n-i)+'*'*i)\n",
    "\n",
    "print(lst)"
   ]
  },
  {
   "cell_type": "markdown",
   "id": "71e379de",
   "metadata": {},
   "source": [
    "['    *',\n",
    " '   **', \n",
    " '  ***', \n",
    " ' ****']"
   ]
  },
  {
   "cell_type": "code",
   "execution_count": 168,
   "id": "9100d0e5",
   "metadata": {},
   "outputs": [
    {
     "ename": "TypeError",
     "evalue": "can only concatenate str (not \"int\") to str",
     "output_type": "error",
     "traceback": [
      "\u001b[31m---------------------------------------------------------------------------\u001b[39m",
      "\u001b[31mTypeError\u001b[39m                                 Traceback (most recent call last)",
      "\u001b[36mCell\u001b[39m\u001b[36m \u001b[39m\u001b[32mIn[168]\u001b[39m\u001b[32m, line 8\u001b[39m\n\u001b[32m      5\u001b[39m     lst.append(\u001b[33m'\u001b[39m\u001b[33m \u001b[39m\u001b[33m'\u001b[39m*(n-i)+\u001b[33m'\u001b[39m\u001b[33m*\u001b[39m\u001b[33m'\u001b[39m*\u001b[32m2\u001b[39m*i+\u001b[32m1\u001b[39m+\u001b[33m'\u001b[39m\u001b[33m \u001b[39m\u001b[33m'\u001b[39m*(n-i))\n\u001b[32m      7\u001b[39m \u001b[38;5;28;01mfor\u001b[39;00m j \u001b[38;5;129;01min\u001b[39;00m \u001b[38;5;28mrange\u001b[39m(-\u001b[32m1\u001b[39m,\u001b[32m2\u001b[39m*i-\u001b[32m1\u001b[39m):\n\u001b[32m----> \u001b[39m\u001b[32m8\u001b[39m     lst.append(\u001b[33;43m'\u001b[39;49m\u001b[33;43m \u001b[39;49m\u001b[33;43m'\u001b[39;49m\u001b[43m*\u001b[49m\u001b[43m(\u001b[49m\u001b[43mn\u001b[49m\u001b[43m-\u001b[49m\u001b[43mj\u001b[49m\u001b[43m)\u001b[49m\u001b[43m+\u001b[49m\u001b[33;43m'\u001b[39;49m\u001b[33;43m*\u001b[39;49m\u001b[33;43m'\u001b[39;49m\u001b[43m*\u001b[49m\u001b[32;43m2\u001b[39;49m\u001b[43m*\u001b[49m\u001b[43mj\u001b[49m\u001b[43m+\u001b[49m\u001b[32;43m1\u001b[39;49m+\u001b[33m'\u001b[39m\u001b[33m \u001b[39m\u001b[33m'\u001b[39m*(n-j))\n\u001b[32m     10\u001b[39m \u001b[38;5;28mprint\u001b[39m(lst)\n",
      "\u001b[31mTypeError\u001b[39m: can only concatenate str (not \"int\") to str"
     ]
    }
   ],
   "source": [
    "n = 3\n",
    "lst = []\n",
    "    \n",
    "for i in range(2*n-1,1):\n",
    "    lst.append(' '*(n-i)+'*'*2*i+1+' '*(n-i))\n",
    "    \n",
    "for j in range(-1,2*i-1):\n",
    "    lst.append(' '*(n-j)+'*'*2*j+1+' '*(n-j))\n",
    "\n",
    "print(lst)"
   ]
  },
  {
   "cell_type": "code",
   "execution_count": 14,
   "id": "99ce42d2",
   "metadata": {},
   "outputs": [
    {
     "name": "stdout",
     "output_type": "stream",
     "text": [
      "9\n"
     ]
    }
   ],
   "source": [
    "  # Your code here\n",
    "s = \"hello world\"\n",
    "\n",
    "b += s.count('a')\n",
    "b += s.count('e')\n",
    "b += s.count('i')\n",
    "b += s.count('o')\n",
    "b += s.count('u')\n",
    "\n",
    "print(b)"
   ]
  },
  {
   "cell_type": "code",
   "execution_count": 18,
   "id": "5952a603",
   "metadata": {},
   "outputs": [],
   "source": [
    "s = \"hello world\"\n",
    "\n",
    "\n",
    "lst = ['a','e','i','o','u']\n",
    "for i in s:\n",
    "    if i == s:\n",
    "         print(True)  "
   ]
  }
 ],
 "metadata": {
  "kernelspec": {
   "display_name": "Python 3",
   "language": "python",
   "name": "python3"
  },
  "language_info": {
   "codemirror_mode": {
    "name": "ipython",
    "version": 3
   },
   "file_extension": ".py",
   "mimetype": "text/x-python",
   "name": "python",
   "nbconvert_exporter": "python",
   "pygments_lexer": "ipython3",
   "version": "3.12.0"
  }
 },
 "nbformat": 4,
 "nbformat_minor": 5
}
