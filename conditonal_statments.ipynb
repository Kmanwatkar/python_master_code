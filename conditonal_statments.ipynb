{
 "cells": [
  {
   "cell_type": "code",
   "execution_count": 1,
   "id": "5b810f96",
   "metadata": {},
   "outputs": [
    {
     "name": "stdout",
     "output_type": "stream",
     "text": [
      "you are eligible for voting\n"
     ]
    }
   ],
   "source": [
    "## if condtion\n",
    "age = 20\n",
    "if age >= 18:\n",
    "    print(\"you are eligible for voting\") "
   ]
  },
  {
   "cell_type": "code",
   "execution_count": 8,
   "id": "9683fcc8",
   "metadata": {},
   "outputs": [
    {
     "name": "stdout",
     "output_type": "stream",
     "text": [
      "number is negative\n"
     ]
    }
   ],
   "source": [
    "## neste condtional statment\n",
    "\n",
    "nume = int(input(\"enter the number\"))\n",
    "\n",
    "if nume>0:\n",
    "    print(\"the number is positive\")\n",
    "    if nume%2==0:\n",
    "        print(\"the number is even\")\n",
    "           \n",
    "    else:\n",
    "        print(\"the number is odd\")\n",
    "else:\n",
    "    print(\"number is negative\")"
   ]
  },
  {
   "cell_type": "code",
   "execution_count": 56,
   "id": "745c87c4",
   "metadata": {},
   "outputs": [
    {
     "name": "stdout",
     "output_type": "stream",
     "text": [
      "2028 it is leap year\n"
     ]
    }
   ],
   "source": [
    "## practical example\n",
    "    ## determine the a year ia a leap year using neste condition statments\n",
    "\n",
    "year = int(input(\"enter the year\"))\n",
    "\n",
    "if (year%4==0):\n",
    "    \n",
    "    if (year%100):\n",
    "        if (year%400):\n",
    "            print(year,\"it is leap year\")\n",
    "        else:\n",
    "            print(year,\"it is not leap year\")\n",
    "    else:\n",
    "        print(year,\"is a leap year\")\n",
    "       \n",
    "else:\n",
    "    print(year,\"it is not leap year\")\n",
    "\n",
    "       "
   ]
  },
  {
   "cell_type": "code",
   "execution_count": 63,
   "id": "98e53dd9",
   "metadata": {},
   "outputs": [
    {
     "name": "stdout",
     "output_type": "stream",
     "text": [
      "your multiple is 144\n"
     ]
    }
   ],
   "source": [
    "## Assignment \n",
    "## simple calculator program\n",
    "\n",
    "a = int(input(\"give value 1\"))\n",
    "b = int(input(\"give value 2\"))\n",
    "c = str(input(\"+ - * /\"))\n",
    "\n",
    "if c==\"+\":\n",
    "     print(\"your sum is \",a+b)\n",
    "            \n",
    "elif c==\"-\":\n",
    "    print(\"your sub is \",a-b)\n",
    "    \n",
    "elif c==\"*\":\n",
    "    print(\"your multiple is\", a*b)\n",
    "elif C==\"/\":\n",
    "    print(\"your div is \" ,a/b) \n",
    "    \n",
    "else:\n",
    "    print(\"no value given\")\n"
   ]
  },
  {
   "cell_type": "code",
   "execution_count": 72,
   "id": "057a2c9c",
   "metadata": {},
   "outputs": [
    {
     "name": "stdout",
     "output_type": "stream",
     "text": [
      "$12\n"
     ]
    }
   ],
   "source": [
    "### determine the ticket price based on age and whether the person is a student\n",
    "\n",
    "\n",
    "age = int(input(\"enter your age: \"))\n",
    "\n",
    "is_student = input(\"are you a student (yes/no) : \")\n",
    "\n",
    "\n",
    "if age<5:\n",
    "    price = \"free\"\n",
    "elif age<12:\n",
    "    price = \"$10\"\n",
    "elif age<17:\n",
    "    if is_student == \"yes\":\n",
    "        price = \"$12\"\n",
    "    else:\n",
    "        price =\"$15\"\n",
    "\n",
    "else:\n",
    "    price = \"$20\"\n",
    "\n",
    "print(price)"
   ]
  }
 ],
 "metadata": {
  "kernelspec": {
   "display_name": "Python 3",
   "language": "python",
   "name": "python3"
  },
  "language_info": {
   "codemirror_mode": {
    "name": "ipython",
    "version": 3
   },
   "file_extension": ".py",
   "mimetype": "text/x-python",
   "name": "python",
   "nbconvert_exporter": "python",
   "pygments_lexer": "ipython3",
   "version": "3.12.0"
  }
 },
 "nbformat": 4,
 "nbformat_minor": 5
}
