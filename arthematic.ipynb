{
 "cells": [
  {
   "cell_type": "code",
   "execution_count": 15,
   "id": "1ca902be",
   "metadata": {},
   "outputs": [
    {
     "name": "stdout",
     "output_type": "stream",
     "text": [
      "25 -5 150 1000000000000000\n"
     ]
    }
   ],
   "source": [
    "    ## arthematic operations \n",
    "    a= 10;b=15\n",
    "    ADD_result = a+b\n",
    "    sub_result = a-b\n",
    "    mul_result = a*b\n",
    "    div_result = a/b\n",
    "    modulus_result = a%b\n",
    "    exponent_result = a**b\n",
    "    \n",
    "    div_result = a/b\n",
    "    print(ADD_result,sub_result, mul_result,exponent_result)"
   ]
  },
  {
   "cell_type": "code",
   "execution_count": 20,
   "id": "61e4decd",
   "metadata": {},
   "outputs": [
    {
     "name": "stdout",
     "output_type": "stream",
     "text": [
      "False\n"
     ]
    }
   ],
   "source": [
    "##comaprison operators\n",
    "a=10;b=10\n",
    "print(a!=b)"
   ]
  },
  {
   "cell_type": "code",
   "execution_count": 25,
   "id": "bbc5128c",
   "metadata": {},
   "outputs": [
    {
     "data": {
      "text/plain": [
       "True"
      ]
     },
     "execution_count": 25,
     "metadata": {},
     "output_type": "execute_result"
    }
   ],
   "source": [
    "##greater than\n",
    "\n",
    "a=45;b =10\n",
    "c=10\n",
    "a>b==c"
   ]
  },
  {
   "cell_type": "code",
   "execution_count": 26,
   "id": "7e8bd410",
   "metadata": {},
   "outputs": [
    {
     "data": {
      "text/plain": [
       "True"
      ]
     },
     "execution_count": 26,
     "metadata": {},
     "output_type": "execute_result"
    }
   ],
   "source": [
    "##less than equal to\n",
    "a= 12;d=12\n",
    "\n",
    "a <= d\n",
    "\n"
   ]
  },
  {
   "cell_type": "markdown",
   "id": "80770882",
   "metadata": {},
   "source": [
    "#### logical opertors\n"
   ]
  },
  {
   "cell_type": "code",
   "execution_count": 32,
   "id": "cfb73e30",
   "metadata": {},
   "outputs": [
    {
     "data": {
      "text/plain": [
       "False"
      ]
     },
     "execution_count": 32,
     "metadata": {},
     "output_type": "execute_result"
    }
   ],
   "source": [
    "# not \n",
    "x = True \n",
    "not x\n"
   ]
  },
  {
   "cell_type": "code",
   "execution_count": null,
   "id": "971174e2",
   "metadata": {},
   "outputs": [
    {
     "name": "stdout",
     "output_type": "stream",
     "text": [
      "True\n"
     ]
    }
   ],
   "source": [
    "## and or not\n",
    "\n",
    "x= True\n",
    "y= True\n",
    "\n",
    "result  = x and y\n",
    "print(result)a"
   ]
  }
 ],
 "metadata": {
  "kernelspec": {
   "display_name": "Python 3",
   "language": "python",
   "name": "python3"
  },
  "language_info": {
   "codemirror_mode": {
    "name": "ipython",
    "version": 3
   },
   "file_extension": ".py",
   "mimetype": "text/x-python",
   "name": "python",
   "nbconvert_exporter": "python",
   "pygments_lexer": "ipython3",
   "version": "3.12.0"
  }
 },
 "nbformat": 4,
 "nbformat_minor": 5
}
