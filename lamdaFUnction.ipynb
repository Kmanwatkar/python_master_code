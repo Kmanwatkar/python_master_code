{
 "cells": [
  {
   "cell_type": "code",
   "execution_count": null,
   "id": "ff29f8cc",
   "metadata": {},
   "outputs": [],
   "source": [
    "# syntax\n",
    "\n",
    "lambda arguments: expression\n",
    "def addition"
   ]
  },
  {
   "cell_type": "code",
   "execution_count": 4,
   "id": "68acfd6c",
   "metadata": {},
   "outputs": [
    {
     "name": "stdout",
     "output_type": "stream",
     "text": [
      "<class 'function'>\n",
      "11\n"
     ]
    }
   ],
   "source": [
    "add=lambda a,b:a+b\n",
    "print(type(add))\n",
    "print(add(5,6))"
   ]
  },
  {
   "cell_type": "code",
   "execution_count": null,
   "id": "2b170933",
   "metadata": {},
   "outputs": [],
   "source": [
    "def even(num):\n",
    "    if num%2==0:\n",
    "        return True\n",
    "    \n"
   ]
  },
  {
   "cell_type": "code",
   "execution_count": 5,
   "id": "b3be2277",
   "metadata": {},
   "outputs": [
    {
     "data": {
      "text/plain": [
       "True"
      ]
     },
     "execution_count": 5,
     "metadata": {},
     "output_type": "execute_result"
    }
   ],
   "source": [
    "even1= lambda num:num%2==0\n",
    "\n",
    "even1(12)"
   ]
  },
  {
   "cell_type": "code",
   "execution_count": 6,
   "id": "ea9fc031",
   "metadata": {},
   "outputs": [
    {
     "data": {
      "text/plain": [
       "4"
      ]
     },
     "execution_count": 6,
     "metadata": {},
     "output_type": "execute_result"
    }
   ],
   "source": [
    "Number = [1,2,3,4,5,6]\n",
    " \n",
    "def squre(Number):\n",
    "    return Number**2\n",
    "\n",
    "\n",
    "squre(2)"
   ]
  },
  {
   "cell_type": "code",
   "execution_count": 8,
   "id": "4d88fe59",
   "metadata": {},
   "outputs": [
    {
     "data": {
      "text/plain": [
       "[1, 4, 9, 16, 25, 36]"
      ]
     },
     "execution_count": 8,
     "metadata": {},
     "output_type": "execute_result"
    }
   ],
   "source": [
    "list(map(lambda x:x**2,Number))"
   ]
  }
 ],
 "metadata": {
  "kernelspec": {
   "display_name": "Python 3",
   "language": "python",
   "name": "python3"
  },
  "language_info": {
   "codemirror_mode": {
    "name": "ipython",
    "version": 3
   },
   "file_extension": ".py",
   "mimetype": "text/x-python",
   "name": "python",
   "nbconvert_exporter": "python",
   "pygments_lexer": "ipython3",
   "version": "3.12.0"
  }
 },
 "nbformat": 4,
 "nbformat_minor": 5
}
