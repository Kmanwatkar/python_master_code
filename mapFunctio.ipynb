{
 "cells": [
  {
   "cell_type": "code",
   "execution_count": 4,
   "id": "7728a0e3",
   "metadata": {},
   "outputs": [
    {
     "name": "stdout",
     "output_type": "stream",
     "text": [
      "<class 'tuple'>\n"
     ]
    }
   ],
   "source": [
    "numbe=(1,2)\n",
    "\n",
    "print(type(numbe))\n",
    "\n",
    "def sqaure(num):\n",
    "    return num*num"
   ]
  },
  {
   "cell_type": "code",
   "execution_count": 7,
   "id": "e96df1b5",
   "metadata": {},
   "outputs": [
    {
     "data": {
      "text/plain": [
       "[1, 4, 9, 16, 25, 36]"
      ]
     },
     "execution_count": 7,
     "metadata": {},
     "output_type": "execute_result"
    }
   ],
   "source": [
    "number=[1,2,3,4,5,6]\n",
    "\n",
    "list(map(sqaure,number))\n",
    "\n"
   ]
  },
  {
   "cell_type": "code",
   "execution_count": 9,
   "id": "0aad1e31",
   "metadata": {},
   "outputs": [
    {
     "data": {
      "text/plain": [
       "[1, 4, 9, 16, 25, 36]"
      ]
     },
     "execution_count": 9,
     "metadata": {},
     "output_type": "execute_result"
    }
   ],
   "source": [
    "## lambda function with map\n",
    "\n",
    "\n",
    "num = [1,2,3,4,5,6]\n",
    "\n",
    "list(map(lambda x:x*x,num))\n"
   ]
  },
  {
   "cell_type": "code",
   "execution_count": null,
   "id": "05014026",
   "metadata": {},
   "outputs": [],
   "source": [
    "### Map multiple iteraables\n",
    "\n",
    "number1=[1,2,3]\n",
    "number2=[4,5,6]\n",
    "\n"
   ]
  },
  {
   "cell_type": "code",
   "execution_count": 11,
   "id": "fdf91485",
   "metadata": {},
   "outputs": [
    {
     "name": "stdout",
     "output_type": "stream",
     "text": [
      "<class 'int'>\n"
     ]
    }
   ],
   "source": [
    "str_num = ['1','2','3','4']\n",
    "\n",
    "int_conv = list(map(int, str_num))\n",
    "\n",
    "\n",
    "print(type(int_conv[2]))"
   ]
  },
  {
   "cell_type": "code",
   "execution_count": 12,
   "id": "1164c2ca",
   "metadata": {},
   "outputs": [
    {
     "data": {
      "text/plain": [
       "['yash', 'chandu']"
      ]
     },
     "execution_count": 12,
     "metadata": {},
     "output_type": "execute_result"
    }
   ],
   "source": [
    "def get_name(person):\n",
    "    return person['name']\n",
    "\n",
    "people = [{'name':'yash','age':24},\n",
    "          {'name':'chandu','age':28}]\n",
    "\n",
    "list(map(get_name,people))\n",
    "\n"
   ]
  }
 ],
 "metadata": {
  "kernelspec": {
   "display_name": "Python 3",
   "language": "python",
   "name": "python3"
  },
  "language_info": {
   "codemirror_mode": {
    "name": "ipython",
    "version": 3
   },
   "file_extension": ".py",
   "mimetype": "text/x-python",
   "name": "python",
   "nbconvert_exporter": "python",
   "pygments_lexer": "ipython3",
   "version": "3.12.0"
  }
 },
 "nbformat": 4,
 "nbformat_minor": 5
}
