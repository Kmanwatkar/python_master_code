{
 "cells": [
  {
   "cell_type": "code",
   "execution_count": 2,
   "id": "58b53575",
   "metadata": {},
   "outputs": [],
   "source": [
    "## even odd function\n",
    "\n",
    "\n",
    "def even_or_odd(num):\n",
    "    if num%2==0:\n",
    "        print(\"it is even\")\n",
    "    else:\n",
    "        print(\"it is odd\")"
   ]
  },
  {
   "cell_type": "code",
   "execution_count": 3,
   "id": "d912113b",
   "metadata": {},
   "outputs": [
    {
     "name": "stdout",
     "output_type": "stream",
     "text": [
      "it is odd\n"
     ]
    }
   ],
   "source": [
    "even_or_odd(23)"
   ]
  },
  {
   "cell_type": "code",
   "execution_count": null,
   "id": "64d1c51a",
   "metadata": {},
   "outputs": [],
   "source": [
    "## function add and multipl\n",
    "\n",
    "def add(a,b):\n",
    "    return a+b \n",
    "\n",
    "def mul(a,b):\n",
    "    return a*b"
   ]
  },
  {
   "cell_type": "code",
   "execution_count": 9,
   "id": "ba9b79cf",
   "metadata": {},
   "outputs": [
    {
     "name": "stdout",
     "output_type": "stream",
     "text": [
      "hello incognitymous welcome to asus\n"
     ]
    }
   ],
   "source": [
    "## defualt parameters\n",
    "\n",
    "def greet(name = \"incognitymous\"):\n",
    "    print(f\"hello {name} welcome to asus\")\n",
    "\n",
    "\n",
    "\n",
    "greet()"
   ]
  },
  {
   "cell_type": "code",
   "execution_count": 26,
   "id": "9f9911e1",
   "metadata": {},
   "outputs": [],
   "source": [
    "## variable length arguments\n",
    "#position and keyword arguments\n",
    "\n",
    "def print_numbers(*args):\n",
    "    for numeber in args:\n",
    "        print(numeber)\n"
   ]
  },
  {
   "cell_type": "code",
   "execution_count": 27,
   "id": "0e2722a2",
   "metadata": {},
   "outputs": [
    {
     "name": "stdout",
     "output_type": "stream",
     "text": [
      "1\n",
      "2\n",
      "3\n",
      "4\n",
      "5\n"
     ]
    }
   ],
   "source": [
    "print_numbers(1,2,3,4,5)"
   ]
  },
  {
   "cell_type": "code",
   "execution_count": 33,
   "id": "79272c32",
   "metadata": {},
   "outputs": [],
   "source": [
    "## keyword argument\n",
    "\n",
    "def print_details(**kwargs):\n",
    "    for key,value in kwargs.items():\n",
    "        print(f\"{key},{value}\")\n"
   ]
  },
  {
   "cell_type": "code",
   "execution_count": 34,
   "id": "b7bb311d",
   "metadata": {},
   "outputs": [
    {
     "name": "stdout",
     "output_type": "stream",
     "text": [
      "name,kshitij\n",
      "age,23\n",
      "country,India\n"
     ]
    }
   ],
   "source": [
    "print_details(name=\"kshitij\",age=23,country=\"India\")"
   ]
  },
  {
   "cell_type": "code",
   "execution_count": null,
   "id": "40c5c992",
   "metadata": {},
   "outputs": [],
   "source": []
  }
 ],
 "metadata": {
  "kernelspec": {
   "display_name": "Python 3",
   "language": "python",
   "name": "python3"
  },
  "language_info": {
   "codemirror_mode": {
    "name": "ipython",
    "version": 3
   },
   "file_extension": ".py",
   "mimetype": "text/x-python",
   "name": "python",
   "nbconvert_exporter": "python",
   "pygments_lexer": "ipython3",
   "version": "3.12.0"
  }
 },
 "nbformat": 4,
 "nbformat_minor": 5
}
