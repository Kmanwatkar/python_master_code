{
 "cells": [
  {
   "cell_type": "code",
   "execution_count": 7,
   "id": "80d02763",
   "metadata": {},
   "outputs": [
    {
     "name": "stdout",
     "output_type": "stream",
     "text": [
      "('hello', 3, True)\n"
     ]
    }
   ],
   "source": [
    "## tuples\n",
    "\n",
    "numbers = tuple([1,2,3,4,5,6])\n",
    "\n",
    "mixed_tuple = (\"hello\",3,True)\n",
    "\n",
    "print(mixed_tuple)\n"
   ]
  },
  {
   "cell_type": "code",
   "execution_count": null,
   "id": "827ef368",
   "metadata": {},
   "outputs": [
    {
     "name": "stdout",
     "output_type": "stream",
     "text": [
      "6\n"
     ]
    }
   ],
   "source": [
    "## accessing tuple elements\n",
    "\n",
    "numbers[0]\n",
    "\n",
    "print(numbers[-1])"
   ]
  },
  {
   "cell_type": "code",
   "execution_count": 8,
   "id": "d377a6f0",
   "metadata": {},
   "outputs": [
    {
     "name": "stdout",
     "output_type": "stream",
     "text": [
      "(1, 2, 3, 4, 5, 6, 'hello', 3, True)\n"
     ]
    }
   ],
   "source": [
    "## tuple operations\n",
    "\n",
    "concatination_tuple= numbers + mixed_tuple\n",
    "\n",
    "print(concatination_tuple)"
   ]
  },
  {
   "cell_type": "code",
   "execution_count": 9,
   "id": "8d8917b6",
   "metadata": {},
   "outputs": [
    {
     "data": {
      "text/plain": [
       "('hello', 3, True, 'hello', 3, True, 'hello', 3, True)"
      ]
     },
     "execution_count": 9,
     "metadata": {},
     "output_type": "execute_result"
    }
   ],
   "source": [
    "mixed_tuple * 3"
   ]
  },
  {
   "cell_type": "code",
   "execution_count": 10,
   "id": "c80366d9",
   "metadata": {},
   "outputs": [
    {
     "data": {
      "text/plain": [
       "(1, 2, 3, 4, 5, 6, 1, 2, 3, 4, 5, 6, 1, 2, 3, 4, 5, 6)"
      ]
     },
     "execution_count": 10,
     "metadata": {},
     "output_type": "execute_result"
    }
   ],
   "source": [
    "numbers * 3"
   ]
  },
  {
   "cell_type": "code",
   "execution_count": 11,
   "id": "60d2e897",
   "metadata": {},
   "outputs": [
    {
     "name": "stdout",
     "output_type": "stream",
     "text": [
      "[1, 12, 'kshitij', 3, 8]\n"
     ]
    }
   ],
   "source": [
    "#immutable nature of the tuples\n",
    "\n",
    "## tuples are immutable, meaing there element can not be change once assigne\n",
    "\n",
    "\n",
    "lst = [1,12,3,3,8]\n",
    "\n",
    "lst[2] = \"kshitij\"\n",
    "\n",
    "print(lst)"
   ]
  },
  {
   "cell_type": "code",
   "execution_count": 16,
   "id": "9c74e061",
   "metadata": {},
   "outputs": [
    {
     "name": "stdout",
     "output_type": "stream",
     "text": [
      "1\n",
      "2\n"
     ]
    }
   ],
   "source": [
    "## tuple Methods\n",
    "\n",
    "print(numbers.count(1))\n",
    "print(numbers.index(3))"
   ]
  },
  {
   "cell_type": "code",
   "execution_count": 17,
   "id": "bd5b2590",
   "metadata": {},
   "outputs": [
    {
     "name": "stdout",
     "output_type": "stream",
     "text": [
      "(1, 'hello', 3.14)\n"
     ]
    }
   ],
   "source": [
    "## packing and unpacing tuples\n",
    "\n",
    "packed_tuples=1,\"hello\",3.14\n",
    "\n",
    "print(packed_tuples)"
   ]
  },
  {
   "cell_type": "code",
   "execution_count": 18,
   "id": "7f184694",
   "metadata": {},
   "outputs": [
    {
     "name": "stdout",
     "output_type": "stream",
     "text": [
      "1\n",
      "hello\n",
      "3.14\n"
     ]
    }
   ],
   "source": [
    "## unpacking the tuples\n",
    "\n",
    "a,b,c = packed_tuples\n",
    "\n",
    "print(a)\n",
    "print(b)\n",
    "print(c)"
   ]
  },
  {
   "cell_type": "code",
   "execution_count": 19,
   "id": "e9202064",
   "metadata": {},
   "outputs": [
    {
     "name": "stdout",
     "output_type": "stream",
     "text": [
      "1\n",
      "[2, 3, 4, 5]\n",
      "6\n"
     ]
    }
   ],
   "source": [
    "### upacking tuple with *\n",
    "\n",
    "number = (1,2,3,4,5,6)\n",
    "\n",
    "first,*middle,last = number\n",
    "\n",
    "print(first)\n",
    "print(middle)\n",
    "print(last)\n",
    "\n"
   ]
  },
  {
   "cell_type": "code",
   "execution_count": 22,
   "id": "f8e59778",
   "metadata": {},
   "outputs": [
    {
     "data": {
      "text/plain": [
       "[5, 6, 7]"
      ]
     },
     "execution_count": 22,
     "metadata": {},
     "output_type": "execute_result"
    }
   ],
   "source": [
    "## nested list\n",
    "## nested tuple\n",
    "\n",
    "\n",
    "lst=[[1,2,3,4],[5,6,7,8,9],[\"ehlloe\",3.14,'c']]\n",
    "\n",
    "lst[1][0:3]"
   ]
  },
  {
   "cell_type": "code",
   "execution_count": 25,
   "id": "57c0b900",
   "metadata": {},
   "outputs": [
    {
     "name": "stdout",
     "output_type": "stream",
     "text": [
      "(1, 2, 3, 4, 5)\n",
      "7\n"
     ]
    }
   ],
   "source": [
    "lst=[[1,2,3,4],[5,6,7,8,9],(\"ehlloe\",3.14,'c')]\n",
    "\n",
    "nested_tuple = ((1,2,3,4,5),('s',6,7,8,9),('a','h','u'))\n",
    "\n",
    "print(nested_tuple[0])\n",
    "print(nested_tuple[1][2])"
   ]
  },
  {
   "cell_type": "code",
   "execution_count": 26,
   "id": "bdb8a06b",
   "metadata": {},
   "outputs": [
    {
     "name": "stdout",
     "output_type": "stream",
     "text": [
      "1 2 3 4 5 \n",
      "s 6 7 8 9 \n",
      "a h u \n"
     ]
    }
   ],
   "source": [
    "## iterating over nested tuples\n",
    "\n",
    "for sub_tuple in nested_tuple:\n",
    "    for item in sub_tuple:\n",
    "        print(item,end=\" \")\n",
    "    print()"
   ]
  },
  {
   "cell_type": "markdown",
   "id": "7bacda74",
   "metadata": {},
   "source": []
  }
 ],
 "metadata": {
  "kernelspec": {
   "display_name": "Python 3",
   "language": "python",
   "name": "python3"
  },
  "language_info": {
   "codemirror_mode": {
    "name": "ipython",
    "version": 3
   },
   "file_extension": ".py",
   "mimetype": "text/x-python",
   "name": "python",
   "nbconvert_exporter": "python",
   "pygments_lexer": "ipython3",
   "version": "3.12.0"
  }
 },
 "nbformat": 4,
 "nbformat_minor": 5
}
