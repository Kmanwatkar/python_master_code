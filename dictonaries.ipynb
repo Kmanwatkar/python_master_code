{
 "cells": [
  {
   "cell_type": "code",
   "execution_count": 1,
   "id": "f5cc43c3",
   "metadata": {},
   "outputs": [
    {
     "name": "stdout",
     "output_type": "stream",
     "text": [
      "<class 'dict'>\n"
     ]
    }
   ],
   "source": [
    "## dictoniaires are unorderd collections of items they store data in key-value pair\n",
    "\n",
    "\n",
    "empty_dictonary={}\n",
    "\n",
    "print(type(empty_dictonary))"
   ]
  },
  {
   "cell_type": "code",
   "execution_count": 2,
   "id": "722eea7b",
   "metadata": {},
   "outputs": [
    {
     "name": "stdout",
     "output_type": "stream",
     "text": [
      "{'name': 'Kshitij', 'age': '24'}\n",
      "<class 'dict'>\n"
     ]
    }
   ],
   "source": [
    "student = {\"name\":\"Kshitij\",\"age\":\"24\"}\n",
    "\n",
    "print(student)\n",
    "print(type(student))"
   ]
  },
  {
   "cell_type": "code",
   "execution_count": 9,
   "id": "b5b4655c",
   "metadata": {},
   "outputs": [
    {
     "name": "stdout",
     "output_type": "stream",
     "text": [
      "24\n",
      "Kshitij\n",
      "is your age\n"
     ]
    }
   ],
   "source": [
    "## accessing dictonary element\n",
    "\n",
    "print(student['age'])\n",
    "print(student['name'])\n",
    "\n",
    "### by using get() method\n",
    "\n",
    "print(student.get('_age',\"is your age\"))"
   ]
  },
  {
   "cell_type": "code",
   "execution_count": 14,
   "id": "3f924fcb",
   "metadata": {},
   "outputs": [
    {
     "name": "stdout",
     "output_type": "stream",
     "text": [
      "{'name': 'Kshitij', 'age': 27, 'adress': 'india'}\n",
      "{'name': 'Kshitij', 'age': 27, 'adress': 'india'}\n",
      "{'name': 'Kshitij', 'age': 27, 'adress': 'india'}\n"
     ]
    }
   ],
   "source": [
    "## modifying dicitonary elements\n",
    "## dicitonary are mutable as you can add, update or delete elments\n",
    "\n",
    "print(student)\n",
    "student[\"age\"] = 27\n",
    "print(student)\n",
    "student[\"adress\"] = \"india\"\n",
    "print(student)"
   ]
  },
  {
   "cell_type": "code",
   "execution_count": 15,
   "id": "817a8891",
   "metadata": {},
   "outputs": [
    {
     "name": "stdout",
     "output_type": "stream",
     "text": [
      "{'name': 'Kshitij', 'adress': 'india'}\n"
     ]
    }
   ],
   "source": [
    "del student['age']\n",
    "\n",
    "print(student)"
   ]
  },
  {
   "cell_type": "code",
   "execution_count": 17,
   "id": "0cdaa546",
   "metadata": {},
   "outputs": [
    {
     "name": "stdout",
     "output_type": "stream",
     "text": [
      "dict_keys(['name', 'adress'])\n",
      "dict_items([('name', 'Kshitij'), ('adress', 'india')])\n"
     ]
    }
   ],
   "source": [
    "### dictonary method\n",
    "\n",
    "keys=student.keys()\n",
    "\n",
    "print(keys)\n",
    "\n",
    "value=student.items()\n",
    "\n",
    "print(value)\n"
   ]
  },
  {
   "cell_type": "code",
   "execution_count": null,
   "id": "6bb74e9d",
   "metadata": {},
   "outputs": [
    {
     "name": "stdout",
     "output_type": "stream",
     "text": [
      "{'name': 'Kshitij', 'adress': 'india'}\n",
      "{'name': 'Kshitij', 'adress': 'india'}\n"
     ]
    }
   ],
   "source": [
    "## important shallow copy \n",
    "\n",
    "student_copy = student\n",
    "\n",
    "print(student)\n",
    "print(student_copy)\n"
   ]
  },
  {
   "cell_type": "code",
   "execution_count": null,
   "id": "930a9043",
   "metadata": {},
   "outputs": [
    {
     "name": "stdout",
     "output_type": "stream",
     "text": [
      "{'name': 'kshitij3', 'adress': 'india'}\n",
      "{'name': 'kshitij3', 'adress': 'india'}\n"
     ]
    }
   ],
   "source": [
    "student_copy1=student.copy()\n",
    "\n",
    "print(student_copy1)\n",
    "\n",
    "print(student)\n"
   ]
  },
  {
   "cell_type": "code",
   "execution_count": 29,
   "id": "5177b1a2",
   "metadata": {},
   "outputs": [
    {
     "name": "stdout",
     "output_type": "stream",
     "text": [
      "{'name': 'kshitij3', 'adress': 'india'}\n",
      "{'name': 'kshitij4', 'adress': 'india'}\n"
     ]
    }
   ],
   "source": [
    "student[\"name\"] = \"kshitij4\"\n",
    "\n",
    "print(student_copy1)\n",
    "\n",
    "print(student)"
   ]
  },
  {
   "cell_type": "code",
   "execution_count": 32,
   "id": "8c2ba89d",
   "metadata": {},
   "outputs": [
    {
     "name": "stdout",
     "output_type": "stream",
     "text": [
      "name\n",
      "adress\n"
     ]
    }
   ],
   "source": [
    "## iterating over dicitonay \n",
    "\n",
    "## can use loops to itrate over dictonary, keys,values,itmes\n",
    "for key in student.keys():\n",
    "    print(key)\n"
   ]
  },
  {
   "cell_type": "code",
   "execution_count": 35,
   "metadata": {},
   "outputs": [
    {
     "name": "stdout",
     "output_type": "stream",
     "text": [
      "kshitij4\n",
      "india\n"
     ]
    }
   ],
   "source": [
    "## itreate over the values\n",
    "\n",
    "for value in student.values():\n",
    "    print(value)"
   ]
  },
  {
   "cell_type": "code",
   "execution_count": 36,
   "id": "a4a52b7d",
   "metadata": {},
   "outputs": [
    {
     "name": "stdout",
     "output_type": "stream",
     "text": [
      "name kshitij4\n",
      "adress india\n"
     ]
    }
   ],
   "source": [
    "for key,value in student.items():\n",
    "    print(key,value)"
   ]
  },
  {
   "cell_type": "code",
   "execution_count": 38,
   "id": "9e4f55e0",
   "metadata": {},
   "outputs": [
    {
     "name": "stdout",
     "output_type": "stream",
     "text": [
      "{'student1': {'name': 'kshitij', 'age': 24}, 'student2': {'name': 'kshitij2', 'age': 55}}\n"
     ]
    }
   ],
   "source": [
    "## nested disctonaries\n",
    "\n",
    "students = {\n",
    "    \"student1\":{\"name\":\"kshitij\",\"age\":24},\n",
    "    \"student2\":{\"name\":\"kshitij2\",\"age\":55}\n",
    "}\n",
    "print(students)"
   ]
  },
  {
   "cell_type": "code",
   "execution_count": 40,
   "id": "55c7a258",
   "metadata": {},
   "outputs": [
    {
     "name": "stdout",
     "output_type": "stream",
     "text": [
      "kshitij2\n"
     ]
    }
   ],
   "source": [
    "## accessing the dictionary\n",
    "\n",
    "print(students[\"student2\"][\"name\"])"
   ]
  },
  {
   "cell_type": "code",
   "execution_count": 42,
   "id": "c921439b",
   "metadata": {},
   "outputs": [
    {
     "name": "stdout",
     "output_type": "stream",
     "text": [
      "student1:{'name': 'kshitij', 'age': 24}\n",
      "name:kshitij\n",
      "age:24\n",
      "student2:{'name': 'kshitij2', 'age': 55}\n",
      "name:kshitij2\n",
      "age:55\n"
     ]
    }
   ],
   "source": [
    "##iterating over nested dictonaries\n",
    "\n",
    "for student_id,student_info in students.items():\n",
    "    print(f\"{student_id}:{student_info}\")\n",
    "    for keys,value in student_info.items():\n",
    "        print(f\"{keys}:{value}\")"
   ]
  },
  {
   "cell_type": "code",
   "execution_count": 43,
   "id": "dc04a040",
   "metadata": {},
   "outputs": [
    {
     "name": "stdout",
     "output_type": "stream",
     "text": [
      "{0: 0, 1: 1, 2: 4, 3: 9, 4: 16, 5: 25, 6: 36, 7: 49, 8: 64, 9: 81}\n"
     ]
    }
   ],
   "source": [
    "## dictionary comphrehension\n",
    "\n",
    "square = {x:x**2 for x in range(10)}\n",
    "\n",
    "print(square)"
   ]
  },
  {
   "cell_type": "code",
   "execution_count": 44,
   "id": "8940e1ed",
   "metadata": {},
   "outputs": [
    {
     "name": "stdout",
     "output_type": "stream",
     "text": [
      "{0: 0, 2: 4, 4: 16, 6: 36, 8: 64}\n"
     ]
    }
   ],
   "source": [
    "## conditional dicitonary comeprehension\n",
    "square_even = {x:x**2 for x in range(9) if x%2==0}\n",
    "\n",
    "print(square_even)"
   ]
  },
  {
   "cell_type": "code",
   "execution_count": 51,
   "id": "f1a5bc68",
   "metadata": {},
   "outputs": [
    {
     "name": "stdout",
     "output_type": "stream",
     "text": [
      "{1: 3, 2: 2, 3: 3, 4: 1, 5: 2, 6: 1}\n"
     ]
    }
   ],
   "source": [
    "## practical example\n",
    "## use a dictionary to count the frequency in list\n",
    "\n",
    "numbers = [1,2,3,3,4,3,2,1,5,6,1,5]\n",
    "\n",
    "frequency = {}\n",
    "\n",
    "for number in numbers:\n",
    "    if number in frequency:\n",
    "        frequency[number]+=1\n",
    "    else:\n",
    "        frequency[number]=1\n",
    "print(frequency)\n"
   ]
  },
  {
   "cell_type": "code",
   "execution_count": 54,
   "id": "2d361556",
   "metadata": {},
   "outputs": [
    {
     "name": "stdout",
     "output_type": "stream",
     "text": [
      "{'a': 1, 'b': 2, 'c': 3, 'd': 4}\n"
     ]
    }
   ],
   "source": [
    "### merge 2 dictionary\n",
    "\n",
    "dict1 = {\"a\":1,\"b\":2}\n",
    "dict2 = {\"c\":3,\"d\":4}\n",
    "\n",
    "merge = {**dict1,**dict2}\n",
    "\n",
    "print(merge)"
   ]
  }
 ],
 "metadata": {
  "kernelspec": {
   "display_name": "Python 3",
   "language": "python",
   "name": "python3"
  },
  "language_info": {
   "codemirror_mode": {
    "name": "ipython",
    "version": 3
   },
   "file_extension": ".py",
   "mimetype": "text/x-python",
   "name": "python",
   "nbconvert_exporter": "python",
   "pygments_lexer": "ipython3",
   "version": "3.12.0"
  }
 },
 "nbformat": 4,
 "nbformat_minor": 5
}
